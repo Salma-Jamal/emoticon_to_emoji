{
  "nbformat": 4,
  "nbformat_minor": 0,
  "metadata": {
    "colab": {
      "name": "emoticon_to_emoji.ipynb",
      "provenance": [],
      "authorship_tag": "ABX9TyOyLh+FxPJufD2nLTz/kE2x"
    },
    "kernelspec": {
      "name": "python3",
      "display_name": "Python 3"
    },
    "language_info": {
      "name": "python"
    }
  },
  "cells": [
    {
      "cell_type": "code",
      "metadata": {
        "id": "da16i_9iw0Os"
      },
      "source": [
        "import numpy as np\n",
        "import pandas as pd\n",
        "from tqdm.notebook import tqdm\n",
        "import re"
      ],
      "execution_count": 4,
      "outputs": []
    },
    {
      "cell_type": "code",
      "metadata": {
        "id": "0BPc9AkLxJtR"
      },
      "source": [
        "data = pd.read_csv('/content/data.csv')"
      ],
      "execution_count": 5,
      "outputs": []
    },
    {
      "cell_type": "code",
      "metadata": {
        "colab": {
          "base_uri": "https://localhost:8080/",
          "height": 197
        },
        "id": "W1lwSDGlxKiw",
        "outputId": "e30a2900-7009-4ad4-cbcf-87f6f9052e53"
      },
      "source": [
        "data.head()"
      ],
      "execution_count": 6,
      "outputs": [
        {
          "output_type": "execute_result",
          "data": {
            "text/html": [
              "<div>\n",
              "<style scoped>\n",
              "    .dataframe tbody tr th:only-of-type {\n",
              "        vertical-align: middle;\n",
              "    }\n",
              "\n",
              "    .dataframe tbody tr th {\n",
              "        vertical-align: top;\n",
              "    }\n",
              "\n",
              "    .dataframe thead th {\n",
              "        text-align: right;\n",
              "    }\n",
              "</style>\n",
              "<table border=\"1\" class=\"dataframe\">\n",
              "  <thead>\n",
              "    <tr style=\"text-align: right;\">\n",
              "      <th></th>\n",
              "      <th>Text</th>\n",
              "    </tr>\n",
              "  </thead>\n",
              "  <tbody>\n",
              "    <tr>\n",
              "      <th>0</th>\n",
              "      <td>مرحبا أنا أحب الحياة :)</td>\n",
              "    </tr>\n",
              "    <tr>\n",
              "      <th>1</th>\n",
              "      <td>أنا حزين :(</td>\n",
              "    </tr>\n",
              "    <tr>\n",
              "      <th>2</th>\n",
              "      <td>البقاء لله عزم الله أجركم :'(</td>\n",
              "    </tr>\n",
              "    <tr>\n",
              "      <th>3</th>\n",
              "      <td>كنت امزح :D</td>\n",
              "    </tr>\n",
              "    <tr>\n",
              "      <th>4</th>\n",
              "      <td>لا اعلم لماذا تضحكين D:</td>\n",
              "    </tr>\n",
              "  </tbody>\n",
              "</table>\n",
              "</div>"
            ],
            "text/plain": [
              "                            Text\n",
              "0        مرحبا أنا أحب الحياة :)\n",
              "1                    أنا حزين :(\n",
              "2  البقاء لله عزم الله أجركم :'(\n",
              "3                    كنت امزح :D\n",
              "4        لا اعلم لماذا تضحكين D:"
            ]
          },
          "metadata": {
            "tags": []
          },
          "execution_count": 6
        }
      ]
    },
    {
      "cell_type": "code",
      "metadata": {
        "colab": {
          "base_uri": "https://localhost:8080/"
        },
        "id": "WoTUZP3rxLZD",
        "outputId": "0050f6f0-08c7-4a5f-bd37-49381e3d881a"
      },
      "source": [
        "q = data.Text.to_list()\n",
        "f = [ re.findall(r\":\\)|\\(:|\\(':|\\(\\\":|:\\(|\\):|\\)\\\":|\\)':|:\\*|:x|;\\)|=\\(|=\\)|:D|D:|:\\\"\\(|:'\\(|\\^_\\^|:P|p:|P:|:-\\(|:-\\)\",q[i]) for i in range(len(q)) ]\n",
        "flat_list = [item for sublist in f if len(sublist) is not 0 for item in sublist]\n",
        "flat_list = list(set(flat_list))\n",
        "flat_list"
      ],
      "execution_count": 7,
      "outputs": [
        {
          "output_type": "execute_result",
          "data": {
            "text/plain": [
              "['=(', '(:', ':)', '):', 'D:', '=)', ';)', ':(', ':D', ':\"(', \":'(\"]"
            ]
          },
          "metadata": {
            "tags": []
          },
          "execution_count": 7
        }
      ]
    },
    {
      "cell_type": "code",
      "metadata": {
        "id": "BH21e-pSxWjW"
      },
      "source": [
        "flat_list = [':\"\\(', '\\):', \":'\\(\", '=\\(', '=\\)', '\\(:', ';\\)', ':D', 'D:', ':\\(', ':\\)']"
      ],
      "execution_count": 8,
      "outputs": []
    },
    {
      "cell_type": "code",
      "metadata": {
        "id": "1GsDm0BsxZEe"
      },
      "source": [
        "lst1 = []\n",
        "for emi in flat_list:\n",
        "  list_text_contains_emi = data.Text.str.contains(emi)\n",
        "  list_text_contains_emi = [str(j) for j in list_text_contains_emi]\n",
        "  for i in range(len(list_text_contains_emi)):\n",
        "    if list_text_contains_emi[i] == 'True': lst1.append(i) "
      ],
      "execution_count": 9,
      "outputs": []
    },
    {
      "cell_type": "code",
      "metadata": {
        "id": "tavrv51XxbEj"
      },
      "source": [
        "emi_text = [data.Text.tolist()[i] for i in lst1]"
      ],
      "execution_count": 16,
      "outputs": []
    },
    {
      "cell_type": "code",
      "metadata": {
        "colab": {
          "base_uri": "https://localhost:8080/"
        },
        "id": "PJsHbAjjx40p",
        "outputId": "9200e2e3-5dec-4913-a56a-67fc46bfc1b8"
      },
      "source": [
        "emi_text"
      ],
      "execution_count": 17,
      "outputs": [
        {
          "output_type": "execute_result",
          "data": {
            "text/plain": [
              "['سوف ابكي :\"(',\n",
              " 'انا اكره الكذب ):',\n",
              " \"البقاء لله عزم الله أجركم :'(\",\n",
              " 'لا تذهبي =(',\n",
              " 'سوف نذهب للتسوق =)',\n",
              " 'الحياة جميلة (:',\n",
              " 'حسنا هيا بنا ;)',\n",
              " 'كنت امزح :D',\n",
              " 'لا اعلم لماذا تضحكين D:',\n",
              " 'أنا حزين :(',\n",
              " 'مرحبا أنا أحب الحياة :)']"
            ]
          },
          "metadata": {
            "tags": []
          },
          "execution_count": 17
        }
      ]
    },
    {
      "cell_type": "code",
      "metadata": {
        "id": "GxQ68By_xrub"
      },
      "source": [
        "df_edited = pd.DataFrame(columns = ['text'])"
      ],
      "execution_count": 18,
      "outputs": []
    },
    {
      "cell_type": "code",
      "metadata": {
        "id": "gZdrvAq4xvVG"
      },
      "source": [
        "for i in range(len(lst1)):\n",
        "  df_edited = df_edited.append( {'text': emi_text[i]}, ignore_index=True)"
      ],
      "execution_count": 19,
      "outputs": []
    },
    {
      "cell_type": "code",
      "metadata": {
        "colab": {
          "base_uri": "https://localhost:8080/",
          "height": 377
        },
        "id": "Ias6ABTlx9Po",
        "outputId": "4ccf033a-696b-4a25-96f6-3bec884ab946"
      },
      "source": [
        "df_edited"
      ],
      "execution_count": 20,
      "outputs": [
        {
          "output_type": "execute_result",
          "data": {
            "text/html": [
              "<div>\n",
              "<style scoped>\n",
              "    .dataframe tbody tr th:only-of-type {\n",
              "        vertical-align: middle;\n",
              "    }\n",
              "\n",
              "    .dataframe tbody tr th {\n",
              "        vertical-align: top;\n",
              "    }\n",
              "\n",
              "    .dataframe thead th {\n",
              "        text-align: right;\n",
              "    }\n",
              "</style>\n",
              "<table border=\"1\" class=\"dataframe\">\n",
              "  <thead>\n",
              "    <tr style=\"text-align: right;\">\n",
              "      <th></th>\n",
              "      <th>text</th>\n",
              "    </tr>\n",
              "  </thead>\n",
              "  <tbody>\n",
              "    <tr>\n",
              "      <th>0</th>\n",
              "      <td>سوف ابكي :\"(</td>\n",
              "    </tr>\n",
              "    <tr>\n",
              "      <th>1</th>\n",
              "      <td>انا اكره الكذب ):</td>\n",
              "    </tr>\n",
              "    <tr>\n",
              "      <th>2</th>\n",
              "      <td>البقاء لله عزم الله أجركم :'(</td>\n",
              "    </tr>\n",
              "    <tr>\n",
              "      <th>3</th>\n",
              "      <td>لا تذهبي =(</td>\n",
              "    </tr>\n",
              "    <tr>\n",
              "      <th>4</th>\n",
              "      <td>سوف نذهب للتسوق =)</td>\n",
              "    </tr>\n",
              "    <tr>\n",
              "      <th>5</th>\n",
              "      <td>الحياة جميلة (:</td>\n",
              "    </tr>\n",
              "    <tr>\n",
              "      <th>6</th>\n",
              "      <td>حسنا هيا بنا ;)</td>\n",
              "    </tr>\n",
              "    <tr>\n",
              "      <th>7</th>\n",
              "      <td>كنت امزح :D</td>\n",
              "    </tr>\n",
              "    <tr>\n",
              "      <th>8</th>\n",
              "      <td>لا اعلم لماذا تضحكين D:</td>\n",
              "    </tr>\n",
              "    <tr>\n",
              "      <th>9</th>\n",
              "      <td>أنا حزين :(</td>\n",
              "    </tr>\n",
              "    <tr>\n",
              "      <th>10</th>\n",
              "      <td>مرحبا أنا أحب الحياة :)</td>\n",
              "    </tr>\n",
              "  </tbody>\n",
              "</table>\n",
              "</div>"
            ],
            "text/plain": [
              "                             text\n",
              "0                    سوف ابكي :\"(\n",
              "1               انا اكره الكذب ):\n",
              "2   البقاء لله عزم الله أجركم :'(\n",
              "3                     لا تذهبي =(\n",
              "4              سوف نذهب للتسوق =)\n",
              "5                 الحياة جميلة (:\n",
              "6                 حسنا هيا بنا ;)\n",
              "7                     كنت امزح :D\n",
              "8         لا اعلم لماذا تضحكين D:\n",
              "9                     أنا حزين :(\n",
              "10        مرحبا أنا أحب الحياة :)"
            ]
          },
          "metadata": {
            "tags": []
          },
          "execution_count": 20
        }
      ]
    },
    {
      "cell_type": "code",
      "metadata": {
        "id": "44fply0Hx-m-"
      },
      "source": [
        "map = {\n",
        "  '(:' : '🙂',\n",
        "  ':)' : '🙂',\n",
        "  ':-)': '🙂',\n",
        "  '=)' : '🙂',\n",
        "  '):' : '☹️',\n",
        "  ':(' : '☹️',\n",
        "  ':-(': '☹️',\n",
        "  '=(' : '☹️',\n",
        "  ':\"(': '😢',\n",
        "  \":'(\": '😢',\n",
        "  ':D' : '😄',\n",
        "  'D:' : '😄',\n",
        "  '^_^': '😄',\n",
        "  ':P' : '😛',\n",
        "  ';)' : '😉'\n",
        "}"
      ],
      "execution_count": 21,
      "outputs": []
    },
    {
      "cell_type": "code",
      "metadata": {
        "id": "XG8Px-OcyKgm"
      },
      "source": [
        "def replace_with(Found_Emoji):\n",
        "  Found_Emoji = Found_Emoji.group(0)\n",
        "  emoji = \" \"+map[Found_Emoji]+\" \"\n",
        "  return emoji"
      ],
      "execution_count": 24,
      "outputs": []
    },
    {
      "cell_type": "code",
      "metadata": {
        "id": "HDyszrGGyM2N"
      },
      "source": [
        "def replace(sentence):\n",
        "  result = re.sub(r\"\\(:|:\\)|:-\\)|=\\)|\\):|:\\(|:-\\(|=\\(|:\\\"\\(|:'\\(|:D|D:|\\^_\\^|:P|;\\)\",replace_with, sentence)\n",
        "  return result"
      ],
      "execution_count": 25,
      "outputs": []
    },
    {
      "cell_type": "code",
      "metadata": {
        "id": "DymYIITtyV5F"
      },
      "source": [
        "df_edited.text = df_edited.text.apply(replace)"
      ],
      "execution_count": 29,
      "outputs": []
    },
    {
      "cell_type": "code",
      "metadata": {
        "colab": {
          "base_uri": "https://localhost:8080/",
          "height": 377
        },
        "id": "6ofi0QKhycpx",
        "outputId": "bc9f8a22-4c4a-4f9e-c639-7330f8a9774e"
      },
      "source": [
        "df_edited"
      ],
      "execution_count": 33,
      "outputs": [
        {
          "output_type": "execute_result",
          "data": {
            "text/html": [
              "<div>\n",
              "<style scoped>\n",
              "    .dataframe tbody tr th:only-of-type {\n",
              "        vertical-align: middle;\n",
              "    }\n",
              "\n",
              "    .dataframe tbody tr th {\n",
              "        vertical-align: top;\n",
              "    }\n",
              "\n",
              "    .dataframe thead th {\n",
              "        text-align: right;\n",
              "    }\n",
              "</style>\n",
              "<table border=\"1\" class=\"dataframe\">\n",
              "  <thead>\n",
              "    <tr style=\"text-align: right;\">\n",
              "      <th></th>\n",
              "      <th>text</th>\n",
              "    </tr>\n",
              "  </thead>\n",
              "  <tbody>\n",
              "    <tr>\n",
              "      <th>0</th>\n",
              "      <td>سوف ابكي  😢</td>\n",
              "    </tr>\n",
              "    <tr>\n",
              "      <th>1</th>\n",
              "      <td>انا اكره الكذب  ☹️</td>\n",
              "    </tr>\n",
              "    <tr>\n",
              "      <th>2</th>\n",
              "      <td>البقاء لله عزم الله أجركم  😢</td>\n",
              "    </tr>\n",
              "    <tr>\n",
              "      <th>3</th>\n",
              "      <td>لا تذهبي  ☹️</td>\n",
              "    </tr>\n",
              "    <tr>\n",
              "      <th>4</th>\n",
              "      <td>سوف نذهب للتسوق  🙂</td>\n",
              "    </tr>\n",
              "    <tr>\n",
              "      <th>5</th>\n",
              "      <td>الحياة جميلة  🙂</td>\n",
              "    </tr>\n",
              "    <tr>\n",
              "      <th>6</th>\n",
              "      <td>حسنا هيا بنا  😉</td>\n",
              "    </tr>\n",
              "    <tr>\n",
              "      <th>7</th>\n",
              "      <td>كنت امزح  😄</td>\n",
              "    </tr>\n",
              "    <tr>\n",
              "      <th>8</th>\n",
              "      <td>لا اعلم لماذا تضحكين  😄</td>\n",
              "    </tr>\n",
              "    <tr>\n",
              "      <th>9</th>\n",
              "      <td>أنا حزين  ☹️</td>\n",
              "    </tr>\n",
              "    <tr>\n",
              "      <th>10</th>\n",
              "      <td>مرحبا أنا أحب الحياة  🙂</td>\n",
              "    </tr>\n",
              "  </tbody>\n",
              "</table>\n",
              "</div>"
            ],
            "text/plain": [
              "                             text\n",
              "0                    سوف ابكي  😢 \n",
              "1             انا اكره الكذب  ☹️ \n",
              "2   البقاء لله عزم الله أجركم  😢 \n",
              "3                   لا تذهبي  ☹️ \n",
              "4             سوف نذهب للتسوق  🙂 \n",
              "5                الحياة جميلة  🙂 \n",
              "6                حسنا هيا بنا  😉 \n",
              "7                    كنت امزح  😄 \n",
              "8        لا اعلم لماذا تضحكين  😄 \n",
              "9                   أنا حزين  ☹️ \n",
              "10       مرحبا أنا أحب الحياة  🙂 "
            ]
          },
          "metadata": {
            "tags": []
          },
          "execution_count": 33
        }
      ]
    }
  ]
}